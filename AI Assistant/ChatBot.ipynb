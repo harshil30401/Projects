{
  "nbformat": 4,
  "nbformat_minor": 0,
  "metadata": {
    "colab": {
      "provenance": []
    },
    "kernelspec": {
      "name": "python3",
      "display_name": "Python 3"
    },
    "language_info": {
      "name": "python"
    }
  },
  "cells": [
    {
      "cell_type": "code",
      "metadata": {
        "id": "dCv7vixrcmym"
      },
      "source": [
        "import io, random, string, warnings, numpy as np, nltk, requests, smtplib as smtp, requests\n",
        "\n",
        "from googlesearch import search\n",
        "from sklearn.feature_extraction.text import TfidfVectorizer\n",
        "from sklearn.metrics.pairwise import cosine_similarity\n",
        "from nltk.stem import WordNetLemmatizer\n",
        "\n",
        "warnings.filterwarnings('ignore')"
      ],
      "execution_count": null,
      "outputs": []
    },
    {
      "cell_type": "code",
      "metadata": {
        "colab": {
          "base_uri": "https://localhost:8080/"
        },
        "id": "OeCXHnB8qkAf",
        "outputId": "e01980c2-0e43-4680-8022-ef7ff19b7c4b"
      },
      "source": [
        "from nltk.stem import WordNetLemmatizer\n",
        "nltk.download('popular', quiet=True)"
      ],
      "execution_count": null,
      "outputs": [
        {
          "output_type": "execute_result",
          "data": {
            "text/plain": [
              "True"
            ]
          },
          "metadata": {},
          "execution_count": 2
        }
      ]
    },
    {
      "cell_type": "code",
      "metadata": {
        "colab": {
          "base_uri": "https://localhost:8080/"
        },
        "id": "cZrTTMu7eKhn",
        "outputId": "933b226f-faba-471b-be4f-903fedc02872"
      },
      "source": [
        "from google.colab import drive\n",
        "drive.mount('/content/drive')"
      ],
      "execution_count": null,
      "outputs": [
        {
          "output_type": "stream",
          "name": "stdout",
          "text": [
            "Mounted at /content/drive\n"
          ]
        }
      ]
    },
    {
      "cell_type": "code",
      "metadata": {
        "id": "jjGjUeS7dobG"
      },
      "source": [
        "file = '/content/drive/MyDrive/bot.txt'\n",
        "\n",
        "f = open(file, 'r', errors='ignore')\n",
        "raw = f.read()\n",
        "raw = raw.lower()"
      ],
      "execution_count": null,
      "outputs": []
    },
    {
      "cell_type": "code",
      "metadata": {
        "id": "36w-w07KqZYv"
      },
      "source": [
        "sent_tokens = nltk.sent_tokenize(raw)\n",
        "word_tokens = nltk.word_tokenize(raw)\n",
        "lemmatizer = nltk.stem.WordNetLemmatizer()"
      ],
      "execution_count": null,
      "outputs": []
    },
    {
      "cell_type": "code",
      "metadata": {
        "id": "UVSpyovLqxag"
      },
      "source": [
        "def LemTokens(tokens):\n",
        "    return [lemmatizer.lemmatize(token) for token in tokens]\n",
        "\n",
        "remove_punc_dict = dict((ord(punc), None) for punc in string.punctuation)\n",
        "\n",
        "def LemNormalize(text):\n",
        "    return LemTokens(nltk.word_tokenize(text.lower().translate(remove_punc_dict)))\n",
        "\n",
        "GREETING_INPUTS = (\"hello\", \"hi\", \"greetings\", \"sup\", \"what's up\", \"hey\")\n",
        "GREETING_RESPONSES = [\"hi\", \"hey\", \"*nods*\", \"hi there\", \"hello\", \"I'm glad you're talking to me\"]"
      ],
      "execution_count": null,
      "outputs": []
    },
    {
      "cell_type": "markdown",
      "metadata": {
        "id": "aV183p0P4TlU"
      },
      "source": []
    },
    {
      "cell_type": "code",
      "metadata": {
        "id": "ZFSDm9Pcq2MF"
      },
      "source": [
        "def greeting(sentence):\n",
        "    for word in sentence.split():\n",
        "        if (word.lower() in GREETING_INPUTS):\n",
        "            return random.choice(GREETING_RESPONSES)"
      ],
      "execution_count": null,
      "outputs": []
    },
    {
      "cell_type": "code",
      "metadata": {
        "id": "D6nO7UjKrOAb"
      },
      "source": [
        "def search_online(user_response):\n",
        "    query = str(user_response)\n",
        "\n",
        "    for j in search(query, num=10, stop=10, pause=2):\n",
        "        print(j)   "
      ],
      "execution_count": null,
      "outputs": []
    },
    {
      "cell_type": "code",
      "metadata": {
        "id": "JWwG3jEbq5es"
      },
      "source": [
        "def response(user_response):\n",
        "    robo_response = ''\n",
        "    sent_tokens.append(user_response)\n",
        "    TfIdVec = TfidfVectorizer(tokenizer=LemNormalize, stop_words='english')\n",
        "    tfidf = TfIdVec.fit_transform(sent_tokens)\n",
        "    vals = cosine_similarity(tfidf[-1], tfidf)\n",
        "    idx = vals.argsort()[0][-2]\n",
        "    flat = vals.flatten()\n",
        "    flat.sort()\n",
        "    req_tfidf = flat[-2]\n",
        "    if(req_tfidf == 0):\n",
        "        print(\"Sorry, i don't understand, do you want me to do a web search?\")\n",
        "        web_search = input(\"Type Yes/No: \")\n",
        "        web_search.lower()\n",
        "        if (web_search == 'yes'):\n",
        "            # print(\"KITT: \")\n",
        "            return search_online(user_response)                      \n",
        "\n",
        "        elif (web_search == 'no'):\n",
        "            robo_response = (\"KITT: Okay\")\n",
        "            return robo_response\n",
        "\n",
        "        else:\n",
        "            robo_response = (\"KITT: Not a valid response!\")\n",
        "            return robo_response\n",
        "\n",
        "    else:\n",
        "        robo_response = robo_response+sent_tokens[idx]\n",
        "        return robo_response\n"
      ],
      "execution_count": null,
      "outputs": []
    },
    {
      "cell_type": "code",
      "metadata": {
        "id": "Wj9BJZidrJ0Q"
      },
      "source": [
        "def chat(user_response):\n",
        "    if(user_response != 'bye'):\n",
        "        if(user_response == 'thanks' or user_response == 'thank you'):\n",
        "            flag = False\n",
        "            print(\" KITT: You're most welcome :)\")\n",
        "            pass\n",
        "        elif (('not tell' or 'not say' or 'not send') in user_response):\n",
        "            print(\"KITT: Okay, i won't\")\n",
        "            pass\n",
        "\n",
        "        elif (('your name' or 'who are you' or 'your identity') in user_response):\n",
        "            print('KITT: My name is KITT, i\\'m a ChatBot')\n",
        "            pass        \n",
        "\n",
        "        else:\n",
        "            if(greeting(user_response) != None):\n",
        "                print(\"KITT: \"+greeting(user_response))\n",
        "            else:\n",
        "                print(\"KITT: \",end=\"\")\n",
        "                print(response(user_response))\n",
        "                sent_tokens.remove(user_response)\n",
        "            pass\n",
        "    else:\n",
        "        flag = False\n",
        "        print(\"KITT: Have a great day!\")"
      ],
      "execution_count": null,
      "outputs": []
    },
    {
      "cell_type": "code",
      "metadata": {
        "id": "4jKXiXr6rnpB"
      },
      "source": [
        "def main():\n",
        "    flag = True\n",
        "\n",
        "    print(\"Hello i'm KITT, how can i help you?\")\n",
        "\n",
        "    while(flag == True):\n",
        "        user_response = input(\"You: \")\n",
        "        user_response = user_response.lower()\n",
        "        if(user_response != 'bye'):\n",
        "            if(user_response == 'thanks' or user_response == 'thank you'):\n",
        "                flag = False\n",
        "                print(\" KITT: You're most welcome :)\")\n",
        "                pass\n",
        "            elif (('not' or 'not tell' or 'not say' or 'not send') in user_response):\n",
        "                print(\"KITT: Okay, i won't\")\n",
        "                pass\n",
        "\n",
        "            elif (('your name' or 'who are you' or 'your identity') in user_response):\n",
        "                print('KITT: My name is KITT, i\\'m a ChatBot')\n",
        "                pass\n",
        "\n",
        "            else:\n",
        "                if(greeting(user_response) != None):\n",
        "                    print(\"KITT: \"+greeting(user_response))\n",
        "                else:\n",
        "                    print(\"KITT: \",end=\"\")\n",
        "                    print(response(user_response))\n",
        "                    sent_tokens.remove(user_response)\n",
        "                pass\n",
        "        else:\n",
        "            flag = False\n",
        "            print(\"KITT: Have a great day!\")"
      ],
      "execution_count": null,
      "outputs": []
    },
    {
      "cell_type": "code",
      "metadata": {
        "colab": {
          "base_uri": "https://localhost:8080/"
        },
        "id": "AqBr6kDR48g5",
        "outputId": "8d98935e-8c2f-4bcd-8280-d0c5cd51d803"
      },
      "source": [
        "try:\n",
        "    main()\n",
        "except KeyboardInterrupt:\n",
        "    print(\"Type bye to deactivate me\")\n",
        "    main()"
      ],
      "execution_count": null,
      "outputs": [
        {
          "output_type": "stream",
          "name": "stdout",
          "text": [
            "Type bye to deactivate me\n",
            "Hello i'm KITT, how can i help you?\n",
            "You: bye\n",
            "KITT: Have a great day!\n"
          ]
        }
      ]
    }
  ]
}