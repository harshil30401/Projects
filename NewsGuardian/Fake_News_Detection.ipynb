{
  "nbformat": 4,
  "nbformat_minor": 2,
  "metadata": {
    "orig_nbformat": 4,
    "language_info": {
      "name": "python",
      "version": "3.9.5",
      "mimetype": "text/x-python",
      "codemirror_mode": {
        "name": "ipython",
        "version": 3
      },
      "pygments_lexer": "ipython3",
      "nbconvert_exporter": "python",
      "file_extension": ".py"
    },
    "kernelspec": {
      "name": "python3",
      "display_name": "Python 3.9.5 64-bit"
    },
    "interpreter": {
      "hash": "33dc6d49505b4536b6a128d9d7c879e1fa44477ad44947bbbe73093067fe6393"
    },
    "colab": {
      "name": "Fake_News_Detection",
      "provenance": [],
      "collapsed_sections": []
    }
  },
  "cells": [
    {
      "cell_type": "code",
      "execution_count": 1,
      "source": [
        "import pandas as pd\r\n",
        "import numpy as np\r\n",
        "from sklearn.model_selection import train_test_split\r\n",
        "from sklearn.metrics import classification_report\r\n",
        "import re, string"
      ],
      "outputs": [],
      "metadata": {
        "id": "6qMdYBcl8jHl"
      }
    },
    {
      "cell_type": "code",
      "execution_count": 2,
      "source": [
        "true = pd.read_csv(\"true.csv\")\r\n",
        "fake = pd.read_csv(\"fake.csv\")"
      ],
      "outputs": [],
      "metadata": {
        "id": "j9pYkYBhTKOo"
      }
    },
    {
      "cell_type": "code",
      "execution_count": 3,
      "source": [
        "fake[\"class\"] = 0\r\n",
        "true[\"class\"] = 1"
      ],
      "outputs": [],
      "metadata": {
        "id": "i-9TwlVWX5Bz"
      }
    },
    {
      "cell_type": "code",
      "execution_count": 4,
      "source": [
        "fake.head()"
      ],
      "outputs": [
        {
          "output_type": "execute_result",
          "data": {
            "text/plain": [
              "                                               title  \\\n",
              "0   Donald Trump Sends Out Embarrassing New Year’...   \n",
              "1   Drunk Bragging Trump Staffer Started Russian ...   \n",
              "2   Sheriff David Clarke Becomes An Internet Joke...   \n",
              "3   Trump Is So Obsessed He Even Has Obama’s Name...   \n",
              "4   Pope Francis Just Called Out Donald Trump Dur...   \n",
              "\n",
              "                                                text subject  \\\n",
              "0  Donald Trump just couldn t wish all Americans ...    News   \n",
              "1  House Intelligence Committee Chairman Devin Nu...    News   \n",
              "2  On Friday, it was revealed that former Milwauk...    News   \n",
              "3  On Christmas day, Donald Trump announced that ...    News   \n",
              "4  Pope Francis used his annual Christmas Day mes...    News   \n",
              "\n",
              "                date  class  \n",
              "0  December 31, 2017      0  \n",
              "1  December 31, 2017      0  \n",
              "2  December 30, 2017      0  \n",
              "3  December 29, 2017      0  \n",
              "4  December 25, 2017      0  "
            ],
            "text/html": [
              "<div>\n",
              "<style scoped>\n",
              "    .dataframe tbody tr th:only-of-type {\n",
              "        vertical-align: middle;\n",
              "    }\n",
              "\n",
              "    .dataframe tbody tr th {\n",
              "        vertical-align: top;\n",
              "    }\n",
              "\n",
              "    .dataframe thead th {\n",
              "        text-align: right;\n",
              "    }\n",
              "</style>\n",
              "<table border=\"1\" class=\"dataframe\">\n",
              "  <thead>\n",
              "    <tr style=\"text-align: right;\">\n",
              "      <th></th>\n",
              "      <th>title</th>\n",
              "      <th>text</th>\n",
              "      <th>subject</th>\n",
              "      <th>date</th>\n",
              "      <th>class</th>\n",
              "    </tr>\n",
              "  </thead>\n",
              "  <tbody>\n",
              "    <tr>\n",
              "      <th>0</th>\n",
              "      <td>Donald Trump Sends Out Embarrassing New Year’...</td>\n",
              "      <td>Donald Trump just couldn t wish all Americans ...</td>\n",
              "      <td>News</td>\n",
              "      <td>December 31, 2017</td>\n",
              "      <td>0</td>\n",
              "    </tr>\n",
              "    <tr>\n",
              "      <th>1</th>\n",
              "      <td>Drunk Bragging Trump Staffer Started Russian ...</td>\n",
              "      <td>House Intelligence Committee Chairman Devin Nu...</td>\n",
              "      <td>News</td>\n",
              "      <td>December 31, 2017</td>\n",
              "      <td>0</td>\n",
              "    </tr>\n",
              "    <tr>\n",
              "      <th>2</th>\n",
              "      <td>Sheriff David Clarke Becomes An Internet Joke...</td>\n",
              "      <td>On Friday, it was revealed that former Milwauk...</td>\n",
              "      <td>News</td>\n",
              "      <td>December 30, 2017</td>\n",
              "      <td>0</td>\n",
              "    </tr>\n",
              "    <tr>\n",
              "      <th>3</th>\n",
              "      <td>Trump Is So Obsessed He Even Has Obama’s Name...</td>\n",
              "      <td>On Christmas day, Donald Trump announced that ...</td>\n",
              "      <td>News</td>\n",
              "      <td>December 29, 2017</td>\n",
              "      <td>0</td>\n",
              "    </tr>\n",
              "    <tr>\n",
              "      <th>4</th>\n",
              "      <td>Pope Francis Just Called Out Donald Trump Dur...</td>\n",
              "      <td>Pope Francis used his annual Christmas Day mes...</td>\n",
              "      <td>News</td>\n",
              "      <td>December 25, 2017</td>\n",
              "      <td>0</td>\n",
              "    </tr>\n",
              "  </tbody>\n",
              "</table>\n",
              "</div>"
            ]
          },
          "metadata": {},
          "execution_count": 4
        }
      ],
      "metadata": {
        "colab": {
          "base_uri": "https://localhost:8080/",
          "height": 206
        },
        "id": "OCuFE9vf8jHq",
        "outputId": "5c689024-6221-41bd-e2e9-8efae0cc86fa"
      }
    },
    {
      "cell_type": "code",
      "execution_count": 5,
      "source": [
        "true.head()"
      ],
      "outputs": [
        {
          "output_type": "execute_result",
          "data": {
            "text/plain": [
              "                                               title  \\\n",
              "0  As U.S. budget fight looms, Republicans flip t...   \n",
              "1  U.S. military to accept transgender recruits o...   \n",
              "2  Senior U.S. Republican senator: 'Let Mr. Muell...   \n",
              "3  FBI Russia probe helped by Australian diplomat...   \n",
              "4  Trump wants Postal Service to charge 'much mor...   \n",
              "\n",
              "                                                text       subject  \\\n",
              "0  WASHINGTON (Reuters) - The head of a conservat...  politicsNews   \n",
              "1  WASHINGTON (Reuters) - Transgender people will...  politicsNews   \n",
              "2  WASHINGTON (Reuters) - The special counsel inv...  politicsNews   \n",
              "3  WASHINGTON (Reuters) - Trump campaign adviser ...  politicsNews   \n",
              "4  SEATTLE/WASHINGTON (Reuters) - President Donal...  politicsNews   \n",
              "\n",
              "                 date  class  \n",
              "0  December 31, 2017       1  \n",
              "1  December 29, 2017       1  \n",
              "2  December 31, 2017       1  \n",
              "3  December 30, 2017       1  \n",
              "4  December 29, 2017       1  "
            ],
            "text/html": [
              "<div>\n",
              "<style scoped>\n",
              "    .dataframe tbody tr th:only-of-type {\n",
              "        vertical-align: middle;\n",
              "    }\n",
              "\n",
              "    .dataframe tbody tr th {\n",
              "        vertical-align: top;\n",
              "    }\n",
              "\n",
              "    .dataframe thead th {\n",
              "        text-align: right;\n",
              "    }\n",
              "</style>\n",
              "<table border=\"1\" class=\"dataframe\">\n",
              "  <thead>\n",
              "    <tr style=\"text-align: right;\">\n",
              "      <th></th>\n",
              "      <th>title</th>\n",
              "      <th>text</th>\n",
              "      <th>subject</th>\n",
              "      <th>date</th>\n",
              "      <th>class</th>\n",
              "    </tr>\n",
              "  </thead>\n",
              "  <tbody>\n",
              "    <tr>\n",
              "      <th>0</th>\n",
              "      <td>As U.S. budget fight looms, Republicans flip t...</td>\n",
              "      <td>WASHINGTON (Reuters) - The head of a conservat...</td>\n",
              "      <td>politicsNews</td>\n",
              "      <td>December 31, 2017</td>\n",
              "      <td>1</td>\n",
              "    </tr>\n",
              "    <tr>\n",
              "      <th>1</th>\n",
              "      <td>U.S. military to accept transgender recruits o...</td>\n",
              "      <td>WASHINGTON (Reuters) - Transgender people will...</td>\n",
              "      <td>politicsNews</td>\n",
              "      <td>December 29, 2017</td>\n",
              "      <td>1</td>\n",
              "    </tr>\n",
              "    <tr>\n",
              "      <th>2</th>\n",
              "      <td>Senior U.S. Republican senator: 'Let Mr. Muell...</td>\n",
              "      <td>WASHINGTON (Reuters) - The special counsel inv...</td>\n",
              "      <td>politicsNews</td>\n",
              "      <td>December 31, 2017</td>\n",
              "      <td>1</td>\n",
              "    </tr>\n",
              "    <tr>\n",
              "      <th>3</th>\n",
              "      <td>FBI Russia probe helped by Australian diplomat...</td>\n",
              "      <td>WASHINGTON (Reuters) - Trump campaign adviser ...</td>\n",
              "      <td>politicsNews</td>\n",
              "      <td>December 30, 2017</td>\n",
              "      <td>1</td>\n",
              "    </tr>\n",
              "    <tr>\n",
              "      <th>4</th>\n",
              "      <td>Trump wants Postal Service to charge 'much mor...</td>\n",
              "      <td>SEATTLE/WASHINGTON (Reuters) - President Donal...</td>\n",
              "      <td>politicsNews</td>\n",
              "      <td>December 29, 2017</td>\n",
              "      <td>1</td>\n",
              "    </tr>\n",
              "  </tbody>\n",
              "</table>\n",
              "</div>"
            ]
          },
          "metadata": {},
          "execution_count": 5
        }
      ],
      "metadata": {
        "colab": {
          "base_uri": "https://localhost:8080/",
          "height": 206
        },
        "id": "7rqSehvz8jHr",
        "outputId": "5ed74fad-7d20-4bd6-c366-131fe8d39a01"
      }
    },
    {
      "cell_type": "code",
      "execution_count": 6,
      "source": [
        "fake.shape, true.shape"
      ],
      "outputs": [
        {
          "output_type": "execute_result",
          "data": {
            "text/plain": [
              "((23481, 5), (21417, 5))"
            ]
          },
          "metadata": {},
          "execution_count": 6
        }
      ],
      "metadata": {
        "colab": {
          "base_uri": "https://localhost:8080/"
        },
        "id": "Z0Eb1MWF8jHs",
        "outputId": "f1f8033a-70cb-49b4-b0e4-1f915392340b"
      }
    },
    {
      "cell_type": "code",
      "execution_count": 7,
      "source": [
        "fake_manual_testing = fake.tail(10)\r\n",
        "for i in range(23480, 23470, -1):\r\n",
        "    fake.drop([i], axis=0, inplace=True)\r\n",
        "true_manual_testing = true.tail(10)\r\n",
        "for i in range(21416, 21406, -1):\r\n",
        "    true.drop([i], axis=0, inplace=True)"
      ],
      "outputs": [],
      "metadata": {
        "id": "IYHhmUzZ8jHt"
      }
    },
    {
      "cell_type": "code",
      "execution_count": 8,
      "source": [
        "manual_testing = pd.concat([fake_manual_testing, true_manual_testing], axis=0)\r\n",
        "manual_testing.to_csv(\"News.csv\")"
      ],
      "outputs": [],
      "metadata": {
        "id": "KbYyyhpH8jHu"
      }
    },
    {
      "cell_type": "code",
      "execution_count": 9,
      "source": [
        "news = pd.concat([fake, true], axis = 0)"
      ],
      "outputs": [],
      "metadata": {
        "id": "hojiN3iaYj5f"
      }
    },
    {
      "cell_type": "code",
      "execution_count": 10,
      "source": [
        "news.drop(['title', 'subject', 'date'], axis=1, inplace=True)\r\n",
        "news"
      ],
      "outputs": [
        {
          "output_type": "execute_result",
          "data": {
            "text/plain": [
              "                                                    text  class\n",
              "0      Donald Trump just couldn t wish all Americans ...      0\n",
              "1      House Intelligence Committee Chairman Devin Nu...      0\n",
              "2      On Friday, it was revealed that former Milwauk...      0\n",
              "3      On Christmas day, Donald Trump announced that ...      0\n",
              "4      Pope Francis used his annual Christmas Day mes...      0\n",
              "...                                                  ...    ...\n",
              "21402  ON BOARD A U.S. MILITARY AIRCRAFT (Reuters) - ...      1\n",
              "21403  WASHINGTON (Reuters) - The United States sugge...      1\n",
              "21404  WASHINGTON (Reuters) - The United States has d...      1\n",
              "21405  ISLAMABAD (Reuters) - Outlining a new strategy...      1\n",
              "21406  GENEVA (Reuters) - North Korea and the United ...      1\n",
              "\n",
              "[44878 rows x 2 columns]"
            ],
            "text/html": [
              "<div>\n",
              "<style scoped>\n",
              "    .dataframe tbody tr th:only-of-type {\n",
              "        vertical-align: middle;\n",
              "    }\n",
              "\n",
              "    .dataframe tbody tr th {\n",
              "        vertical-align: top;\n",
              "    }\n",
              "\n",
              "    .dataframe thead th {\n",
              "        text-align: right;\n",
              "    }\n",
              "</style>\n",
              "<table border=\"1\" class=\"dataframe\">\n",
              "  <thead>\n",
              "    <tr style=\"text-align: right;\">\n",
              "      <th></th>\n",
              "      <th>text</th>\n",
              "      <th>class</th>\n",
              "    </tr>\n",
              "  </thead>\n",
              "  <tbody>\n",
              "    <tr>\n",
              "      <th>0</th>\n",
              "      <td>Donald Trump just couldn t wish all Americans ...</td>\n",
              "      <td>0</td>\n",
              "    </tr>\n",
              "    <tr>\n",
              "      <th>1</th>\n",
              "      <td>House Intelligence Committee Chairman Devin Nu...</td>\n",
              "      <td>0</td>\n",
              "    </tr>\n",
              "    <tr>\n",
              "      <th>2</th>\n",
              "      <td>On Friday, it was revealed that former Milwauk...</td>\n",
              "      <td>0</td>\n",
              "    </tr>\n",
              "    <tr>\n",
              "      <th>3</th>\n",
              "      <td>On Christmas day, Donald Trump announced that ...</td>\n",
              "      <td>0</td>\n",
              "    </tr>\n",
              "    <tr>\n",
              "      <th>4</th>\n",
              "      <td>Pope Francis used his annual Christmas Day mes...</td>\n",
              "      <td>0</td>\n",
              "    </tr>\n",
              "    <tr>\n",
              "      <th>...</th>\n",
              "      <td>...</td>\n",
              "      <td>...</td>\n",
              "    </tr>\n",
              "    <tr>\n",
              "      <th>21402</th>\n",
              "      <td>ON BOARD A U.S. MILITARY AIRCRAFT (Reuters) - ...</td>\n",
              "      <td>1</td>\n",
              "    </tr>\n",
              "    <tr>\n",
              "      <th>21403</th>\n",
              "      <td>WASHINGTON (Reuters) - The United States sugge...</td>\n",
              "      <td>1</td>\n",
              "    </tr>\n",
              "    <tr>\n",
              "      <th>21404</th>\n",
              "      <td>WASHINGTON (Reuters) - The United States has d...</td>\n",
              "      <td>1</td>\n",
              "    </tr>\n",
              "    <tr>\n",
              "      <th>21405</th>\n",
              "      <td>ISLAMABAD (Reuters) - Outlining a new strategy...</td>\n",
              "      <td>1</td>\n",
              "    </tr>\n",
              "    <tr>\n",
              "      <th>21406</th>\n",
              "      <td>GENEVA (Reuters) - North Korea and the United ...</td>\n",
              "      <td>1</td>\n",
              "    </tr>\n",
              "  </tbody>\n",
              "</table>\n",
              "<p>44878 rows × 2 columns</p>\n",
              "</div>"
            ]
          },
          "metadata": {},
          "execution_count": 10
        }
      ],
      "metadata": {
        "colab": {
          "base_uri": "https://localhost:8080/",
          "height": 423
        },
        "id": "4fcClahPZnj6",
        "outputId": "0cf35d2a-c419-44d8-fa9a-838348fb108e"
      }
    },
    {
      "cell_type": "code",
      "execution_count": 11,
      "source": [
        "#shuffle dataframe\r\n",
        "news = news.sample(frac=1)\r\n",
        "news"
      ],
      "outputs": [
        {
          "output_type": "execute_result",
          "data": {
            "text/plain": [
              "                                                    text  class\n",
              "11662  BEIJING (Reuters) - Chinese tourists are still...      1\n",
              "9205   (Reuters) - Legislation approved by Michigan l...      1\n",
              "11800  (Reuters) - German Chancellor Angela Merkel s ...      1\n",
              "20930  LONDON (Reuters) - U.S. President Donald Trump...      1\n",
              "18887  DUBAI/PARIS (Reuters) - Saudi Arabia s decisio...      1\n",
              "...                                                  ...    ...\n",
              "13846  The biggest thing a president can do for the p...      0\n",
              "7428   Bernie Sanders has a knack for being able to l...      0\n",
              "7944   DUBAI (Reuters) - Saudi Arabia said on Monday ...      1\n",
              "13411  WASHINGTON (Reuters) - The U.S. State Departme...      1\n",
              "15559  We re living in such  historic  times I can ba...      0\n",
              "\n",
              "[44878 rows x 2 columns]"
            ],
            "text/html": [
              "<div>\n",
              "<style scoped>\n",
              "    .dataframe tbody tr th:only-of-type {\n",
              "        vertical-align: middle;\n",
              "    }\n",
              "\n",
              "    .dataframe tbody tr th {\n",
              "        vertical-align: top;\n",
              "    }\n",
              "\n",
              "    .dataframe thead th {\n",
              "        text-align: right;\n",
              "    }\n",
              "</style>\n",
              "<table border=\"1\" class=\"dataframe\">\n",
              "  <thead>\n",
              "    <tr style=\"text-align: right;\">\n",
              "      <th></th>\n",
              "      <th>text</th>\n",
              "      <th>class</th>\n",
              "    </tr>\n",
              "  </thead>\n",
              "  <tbody>\n",
              "    <tr>\n",
              "      <th>11662</th>\n",
              "      <td>BEIJING (Reuters) - Chinese tourists are still...</td>\n",
              "      <td>1</td>\n",
              "    </tr>\n",
              "    <tr>\n",
              "      <th>9205</th>\n",
              "      <td>(Reuters) - Legislation approved by Michigan l...</td>\n",
              "      <td>1</td>\n",
              "    </tr>\n",
              "    <tr>\n",
              "      <th>11800</th>\n",
              "      <td>(Reuters) - German Chancellor Angela Merkel s ...</td>\n",
              "      <td>1</td>\n",
              "    </tr>\n",
              "    <tr>\n",
              "      <th>20930</th>\n",
              "      <td>LONDON (Reuters) - U.S. President Donald Trump...</td>\n",
              "      <td>1</td>\n",
              "    </tr>\n",
              "    <tr>\n",
              "      <th>18887</th>\n",
              "      <td>DUBAI/PARIS (Reuters) - Saudi Arabia s decisio...</td>\n",
              "      <td>1</td>\n",
              "    </tr>\n",
              "    <tr>\n",
              "      <th>...</th>\n",
              "      <td>...</td>\n",
              "      <td>...</td>\n",
              "    </tr>\n",
              "    <tr>\n",
              "      <th>13846</th>\n",
              "      <td>The biggest thing a president can do for the p...</td>\n",
              "      <td>0</td>\n",
              "    </tr>\n",
              "    <tr>\n",
              "      <th>7428</th>\n",
              "      <td>Bernie Sanders has a knack for being able to l...</td>\n",
              "      <td>0</td>\n",
              "    </tr>\n",
              "    <tr>\n",
              "      <th>7944</th>\n",
              "      <td>DUBAI (Reuters) - Saudi Arabia said on Monday ...</td>\n",
              "      <td>1</td>\n",
              "    </tr>\n",
              "    <tr>\n",
              "      <th>13411</th>\n",
              "      <td>WASHINGTON (Reuters) - The U.S. State Departme...</td>\n",
              "      <td>1</td>\n",
              "    </tr>\n",
              "    <tr>\n",
              "      <th>15559</th>\n",
              "      <td>We re living in such  historic  times I can ba...</td>\n",
              "      <td>0</td>\n",
              "    </tr>\n",
              "  </tbody>\n",
              "</table>\n",
              "<p>44878 rows × 2 columns</p>\n",
              "</div>"
            ]
          },
          "metadata": {},
          "execution_count": 11
        }
      ],
      "metadata": {
        "colab": {
          "base_uri": "https://localhost:8080/",
          "height": 423
        },
        "id": "_7ZOyQdQadlK",
        "outputId": "5f54c54f-ca3b-4d7b-9b26-145c95308a62"
      }
    },
    {
      "cell_type": "code",
      "execution_count": 12,
      "source": [
        "news.isnull().sum()"
      ],
      "outputs": [
        {
          "output_type": "execute_result",
          "data": {
            "text/plain": [
              "text     0\n",
              "class    0\n",
              "dtype: int64"
            ]
          },
          "metadata": {},
          "execution_count": 12
        }
      ],
      "metadata": {
        "colab": {
          "base_uri": "https://localhost:8080/"
        },
        "id": "1kWr3nbkaxuw",
        "outputId": "343c0fb4-1227-4ed0-cfae-75dfca720bc0"
      }
    },
    {
      "cell_type": "code",
      "execution_count": 13,
      "source": [
        "#removing special characters\r\n",
        "\r\n",
        "def word_drop(text):\r\n",
        "  text = text.lower()\r\n",
        "  text = re.sub('\\[.*?\\]','', text)\r\n",
        "  text = re.sub(\"\\\\W\", \" \", text)\r\n",
        "  text = re.sub('https?://\\S+|www\\.\\S+', '', text)\r\n",
        "  text = re.sub('<.*?>+', '', text)\r\n",
        "  text = re.sub('[%s]' % re.escape(string.punctuation), '', text)\r\n",
        "  text = re.sub('\\w*\\d\\w*', '', text)\r\n",
        "  return text"
      ],
      "outputs": [],
      "metadata": {
        "id": "YG2jOI86a2XY"
      }
    },
    {
      "cell_type": "code",
      "execution_count": 14,
      "source": [
        "news[\"text\"] = news[\"text\"].apply(word_drop)"
      ],
      "outputs": [],
      "metadata": {
        "id": "AeBwtrQncgIw"
      }
    },
    {
      "cell_type": "code",
      "execution_count": 15,
      "source": [
        "news"
      ],
      "outputs": [
        {
          "output_type": "execute_result",
          "data": {
            "text/plain": [
              "                                                    text  class\n",
              "11662  beijing  reuters    chinese tourists are still...      1\n",
              "9205    reuters    legislation approved by michigan l...      1\n",
              "11800   reuters    german chancellor angela merkel s ...      1\n",
              "20930  london  reuters    u s  president donald trump...      1\n",
              "18887  dubai paris  reuters    saudi arabia s decisio...      1\n",
              "...                                                  ...    ...\n",
              "13846  the biggest thing a president can do for the p...      0\n",
              "7428   bernie sanders has a knack for being able to l...      0\n",
              "7944   dubai  reuters    saudi arabia said on monday ...      1\n",
              "13411  washington  reuters    the u s  state departme...      1\n",
              "15559  we re living in such  historic  times i can ba...      0\n",
              "\n",
              "[44878 rows x 2 columns]"
            ],
            "text/html": [
              "<div>\n",
              "<style scoped>\n",
              "    .dataframe tbody tr th:only-of-type {\n",
              "        vertical-align: middle;\n",
              "    }\n",
              "\n",
              "    .dataframe tbody tr th {\n",
              "        vertical-align: top;\n",
              "    }\n",
              "\n",
              "    .dataframe thead th {\n",
              "        text-align: right;\n",
              "    }\n",
              "</style>\n",
              "<table border=\"1\" class=\"dataframe\">\n",
              "  <thead>\n",
              "    <tr style=\"text-align: right;\">\n",
              "      <th></th>\n",
              "      <th>text</th>\n",
              "      <th>class</th>\n",
              "    </tr>\n",
              "  </thead>\n",
              "  <tbody>\n",
              "    <tr>\n",
              "      <th>11662</th>\n",
              "      <td>beijing  reuters    chinese tourists are still...</td>\n",
              "      <td>1</td>\n",
              "    </tr>\n",
              "    <tr>\n",
              "      <th>9205</th>\n",
              "      <td>reuters    legislation approved by michigan l...</td>\n",
              "      <td>1</td>\n",
              "    </tr>\n",
              "    <tr>\n",
              "      <th>11800</th>\n",
              "      <td>reuters    german chancellor angela merkel s ...</td>\n",
              "      <td>1</td>\n",
              "    </tr>\n",
              "    <tr>\n",
              "      <th>20930</th>\n",
              "      <td>london  reuters    u s  president donald trump...</td>\n",
              "      <td>1</td>\n",
              "    </tr>\n",
              "    <tr>\n",
              "      <th>18887</th>\n",
              "      <td>dubai paris  reuters    saudi arabia s decisio...</td>\n",
              "      <td>1</td>\n",
              "    </tr>\n",
              "    <tr>\n",
              "      <th>...</th>\n",
              "      <td>...</td>\n",
              "      <td>...</td>\n",
              "    </tr>\n",
              "    <tr>\n",
              "      <th>13846</th>\n",
              "      <td>the biggest thing a president can do for the p...</td>\n",
              "      <td>0</td>\n",
              "    </tr>\n",
              "    <tr>\n",
              "      <th>7428</th>\n",
              "      <td>bernie sanders has a knack for being able to l...</td>\n",
              "      <td>0</td>\n",
              "    </tr>\n",
              "    <tr>\n",
              "      <th>7944</th>\n",
              "      <td>dubai  reuters    saudi arabia said on monday ...</td>\n",
              "      <td>1</td>\n",
              "    </tr>\n",
              "    <tr>\n",
              "      <th>13411</th>\n",
              "      <td>washington  reuters    the u s  state departme...</td>\n",
              "      <td>1</td>\n",
              "    </tr>\n",
              "    <tr>\n",
              "      <th>15559</th>\n",
              "      <td>we re living in such  historic  times i can ba...</td>\n",
              "      <td>0</td>\n",
              "    </tr>\n",
              "  </tbody>\n",
              "</table>\n",
              "<p>44878 rows × 2 columns</p>\n",
              "</div>"
            ]
          },
          "metadata": {},
          "execution_count": 15
        }
      ],
      "metadata": {
        "colab": {
          "base_uri": "https://localhost:8080/",
          "height": 423
        },
        "id": "XVXAtB5fcveC",
        "outputId": "4f8705a2-9c17-4cf4-e1e6-1444b50adcd9"
      }
    },
    {
      "cell_type": "code",
      "execution_count": 16,
      "source": [
        "x = news[\"text\"]\r\n",
        "y = news[\"class\"]"
      ],
      "outputs": [],
      "metadata": {
        "id": "BDiDt4Xoc3gR"
      }
    },
    {
      "cell_type": "code",
      "execution_count": 17,
      "source": [
        "# splitting into test and train\r\n",
        "\r\n",
        "x_train, x_test, y_train, y_test = train_test_split(x, y, test_size = .25)"
      ],
      "outputs": [],
      "metadata": {
        "id": "8RjY5R_3dX7Y"
      }
    },
    {
      "cell_type": "code",
      "execution_count": 18,
      "source": [
        "from sklearn.feature_extraction.text import TfidfVectorizer\r\n",
        "\r\n",
        "vectorization = TfidfVectorizer()\r\n",
        "xv_train = vectorization.fit_transform(x_train)\r\n",
        "xv_test = vectorization.transform(x_test)"
      ],
      "outputs": [],
      "metadata": {
        "id": "qlzYPFTMdu4l"
      }
    },
    {
      "cell_type": "markdown",
      "source": [
        "### Logistic Regression"
      ],
      "metadata": {
        "id": "Rjw_3LymevrX"
      }
    },
    {
      "cell_type": "code",
      "execution_count": 19,
      "source": [
        "from sklearn.linear_model import LogisticRegression\r\n",
        "\r\n",
        "logisticRegression = LogisticRegression()\r\n",
        "logisticRegression.fit(xv_train, y_train)"
      ],
      "outputs": [
        {
          "output_type": "execute_result",
          "data": {
            "text/plain": [
              "LogisticRegression()"
            ]
          },
          "metadata": {},
          "execution_count": 19
        }
      ],
      "metadata": {
        "colab": {
          "base_uri": "https://localhost:8080/"
        },
        "id": "Iht6ST1Ie05r",
        "outputId": "6438b70c-f223-4a5f-9dd2-95458a03091a"
      }
    },
    {
      "cell_type": "code",
      "execution_count": 20,
      "source": [
        "logisticRegression.score(xv_test, y_test)"
      ],
      "outputs": [
        {
          "output_type": "execute_result",
          "data": {
            "text/plain": [
              "0.9861853832442068"
            ]
          },
          "metadata": {},
          "execution_count": 20
        }
      ],
      "metadata": {
        "colab": {
          "base_uri": "https://localhost:8080/"
        },
        "id": "zUuPgCwVfJWZ",
        "outputId": "54555790-ccc2-4483-b62a-1d6a1e6387d8"
      }
    },
    {
      "cell_type": "code",
      "execution_count": 21,
      "source": [
        "pred_logisticRegression = logisticRegression.predict(xv_test)"
      ],
      "outputs": [],
      "metadata": {
        "id": "J-BNKFxYfO4A"
      }
    },
    {
      "cell_type": "code",
      "execution_count": 22,
      "source": [
        "print(classification_report(y_test, pred_logisticRegression))"
      ],
      "outputs": [
        {
          "output_type": "stream",
          "name": "stdout",
          "text": [
            "              precision    recall  f1-score   support\n",
            "\n",
            "           0       0.99      0.99      0.99      5861\n",
            "           1       0.98      0.99      0.99      5359\n",
            "\n",
            "    accuracy                           0.99     11220\n",
            "   macro avg       0.99      0.99      0.99     11220\n",
            "weighted avg       0.99      0.99      0.99     11220\n",
            "\n"
          ]
        }
      ],
      "metadata": {
        "colab": {
          "base_uri": "https://localhost:8080/"
        },
        "id": "vlC3hGPfhN68",
        "outputId": "a7a96bc6-9da9-4da5-d3c0-a0e18ea976eb"
      }
    },
    {
      "cell_type": "markdown",
      "source": [
        "### Decision Tree Classifier"
      ],
      "metadata": {
        "id": "MwGHBsauhimG"
      }
    },
    {
      "cell_type": "code",
      "execution_count": 23,
      "source": [
        "from sklearn.tree import DecisionTreeClassifier\r\n",
        "\r\n",
        "decisionTree = DecisionTreeClassifier()\r\n",
        "decisionTree.fit(xv_train, y_train)"
      ],
      "outputs": [
        {
          "output_type": "execute_result",
          "data": {
            "text/plain": [
              "DecisionTreeClassifier()"
            ]
          },
          "metadata": {},
          "execution_count": 23
        }
      ],
      "metadata": {
        "colab": {
          "base_uri": "https://localhost:8080/"
        },
        "id": "LPTMmmnUhlxd",
        "outputId": "8ff2c6b5-615f-4b81-a0b9-8e126f0fa74e"
      }
    },
    {
      "cell_type": "code",
      "execution_count": 24,
      "source": [
        "decisionTree.score(xv_test, y_test)"
      ],
      "outputs": [
        {
          "output_type": "execute_result",
          "data": {
            "text/plain": [
              "0.9951871657754011"
            ]
          },
          "metadata": {},
          "execution_count": 24
        }
      ],
      "metadata": {
        "colab": {
          "base_uri": "https://localhost:8080/"
        },
        "id": "m7503fhihtsW",
        "outputId": "059d7078-01f3-479d-ade6-080d3ce77882"
      }
    },
    {
      "cell_type": "code",
      "execution_count": 25,
      "source": [
        "pred_decisionTree = decisionTree.predict(xv_test)"
      ],
      "outputs": [],
      "metadata": {
        "id": "l4uYhOBqiBaM"
      }
    },
    {
      "cell_type": "code",
      "execution_count": 26,
      "source": [
        "print(classification_report(y_test, pred_decisionTree))"
      ],
      "outputs": [
        {
          "output_type": "stream",
          "name": "stdout",
          "text": [
            "              precision    recall  f1-score   support\n",
            "\n",
            "           0       0.99      1.00      1.00      5861\n",
            "           1       1.00      0.99      0.99      5359\n",
            "\n",
            "    accuracy                           1.00     11220\n",
            "   macro avg       1.00      1.00      1.00     11220\n",
            "weighted avg       1.00      1.00      1.00     11220\n",
            "\n"
          ]
        }
      ],
      "metadata": {
        "colab": {
          "base_uri": "https://localhost:8080/"
        },
        "id": "SZQn7V7riK94",
        "outputId": "99723e7e-993e-4a7f-8f8f-4b0b823d020f"
      }
    },
    {
      "cell_type": "markdown",
      "source": [
        "### Gradient Boosting Classifier"
      ],
      "metadata": {
        "id": "PNNZIQXaiY9S"
      }
    },
    {
      "cell_type": "code",
      "execution_count": 27,
      "source": [
        "from sklearn.ensemble import GradientBoostingClassifier\r\n",
        "\r\n",
        "gradientBoostingClassifier = GradientBoostingClassifier(random_state=0)\r\n",
        "gradientBoostingClassifier.fit(xv_train, y_train)"
      ],
      "outputs": [
        {
          "output_type": "execute_result",
          "data": {
            "text/plain": [
              "GradientBoostingClassifier(random_state=0)"
            ]
          },
          "metadata": {},
          "execution_count": 27
        }
      ],
      "metadata": {
        "colab": {
          "base_uri": "https://localhost:8080/"
        },
        "id": "OCoc1hAVif4b",
        "outputId": "e177813f-89ec-4447-cf39-5aedc366071d"
      }
    },
    {
      "cell_type": "code",
      "execution_count": 28,
      "source": [
        "gradientBoostingClassifier.score(xv_test, y_test)"
      ],
      "outputs": [
        {
          "output_type": "execute_result",
          "data": {
            "text/plain": [
              "0.9949197860962566"
            ]
          },
          "metadata": {},
          "execution_count": 28
        }
      ],
      "metadata": {
        "colab": {
          "base_uri": "https://localhost:8080/"
        },
        "id": "rI0O1VciikEl",
        "outputId": "fe564f4a-e0ca-48df-9235-24850c01527b"
      }
    },
    {
      "cell_type": "code",
      "execution_count": 29,
      "source": [
        "pred_gradientBoostingClassifier = gradientBoostingClassifier.predict(xv_test)\r\n",
        "print(classification_report(y_test, pred_gradientBoostingClassifier))"
      ],
      "outputs": [
        {
          "output_type": "stream",
          "name": "stdout",
          "text": [
            "              precision    recall  f1-score   support\n",
            "\n",
            "           0       1.00      0.99      1.00      5861\n",
            "           1       0.99      1.00      0.99      5359\n",
            "\n",
            "    accuracy                           0.99     11220\n",
            "   macro avg       0.99      0.99      0.99     11220\n",
            "weighted avg       0.99      0.99      0.99     11220\n",
            "\n"
          ]
        }
      ],
      "metadata": {
        "colab": {
          "base_uri": "https://localhost:8080/"
        },
        "id": "HUynG5VUkEHe",
        "outputId": "ccee63fd-96a2-4f67-b0bd-ae2b49ffd68f"
      }
    },
    {
      "cell_type": "markdown",
      "source": [
        "### Random Forest Classifier"
      ],
      "metadata": {
        "id": "IM1eNxhwkaop"
      }
    },
    {
      "cell_type": "code",
      "execution_count": 30,
      "source": [
        "from sklearn.ensemble import RandomForestClassifier\r\n",
        "\r\n",
        "randomForestClassifier = RandomForestClassifier(random_state=0)\r\n",
        "randomForestClassifier.fit(xv_train, y_train)"
      ],
      "outputs": [
        {
          "output_type": "execute_result",
          "data": {
            "text/plain": [
              "RandomForestClassifier(random_state=0)"
            ]
          },
          "metadata": {},
          "execution_count": 30
        }
      ],
      "metadata": {
        "colab": {
          "base_uri": "https://localhost:8080/"
        },
        "id": "Z8Rqc7HskeuC",
        "outputId": "7efefb47-9037-4450-b918-b8b09e6cc652"
      }
    },
    {
      "cell_type": "code",
      "execution_count": 31,
      "source": [
        "randomForestClassifier.score(xv_test, y_test)"
      ],
      "outputs": [
        {
          "output_type": "execute_result",
          "data": {
            "text/plain": [
              "0.9900178253119429"
            ]
          },
          "metadata": {},
          "execution_count": 31
        }
      ],
      "metadata": {
        "colab": {
          "base_uri": "https://localhost:8080/"
        },
        "id": "HzaTQ_MFkppo",
        "outputId": "4e33591b-8132-4a0f-86dd-81b97555e7ce"
      }
    },
    {
      "cell_type": "code",
      "execution_count": 32,
      "source": [
        "pred_randomForestClassifier=  randomForestClassifier.predict(xv_test)"
      ],
      "outputs": [],
      "metadata": {
        "id": "icYJnD1ylMDh"
      }
    },
    {
      "cell_type": "code",
      "execution_count": 33,
      "source": [
        "print(classification_report(y_test, pred_randomForestClassifier))"
      ],
      "outputs": [
        {
          "output_type": "stream",
          "name": "stdout",
          "text": [
            "              precision    recall  f1-score   support\n",
            "\n",
            "           0       0.99      0.99      0.99      5861\n",
            "           1       0.99      0.99      0.99      5359\n",
            "\n",
            "    accuracy                           0.99     11220\n",
            "   macro avg       0.99      0.99      0.99     11220\n",
            "weighted avg       0.99      0.99      0.99     11220\n",
            "\n"
          ]
        }
      ],
      "metadata": {
        "colab": {
          "base_uri": "https://localhost:8080/"
        },
        "id": "C-xR5vVQlQ4_",
        "outputId": "df3a26c8-3e6f-4335-fdf0-d2c9ff23c3cb"
      }
    },
    {
      "cell_type": "markdown",
      "source": [
        "### Manual Testing"
      ],
      "metadata": {
        "id": "tz5_iz_5lyKe"
      }
    },
    {
      "cell_type": "code",
      "execution_count": 34,
      "source": [
        "def output(n):\r\n",
        "  if n == 0:\r\n",
        "    return \"Fake\"\r\n",
        "  elif n == 1:\r\n",
        "    return \"True\"\r\n",
        "\r\n",
        "\r\n",
        "def manual_testing(news):\r\n",
        "  testing_news = {\"text\": [news]}\r\n",
        "  new_def_test = pd.DataFrame(testing_news)\r\n",
        "  new_def_test[\"text\"] = new_def_test[\"text\"].apply(word_drop)\r\n",
        "  new_x_test = new_def_test[\"text\"]\r\n",
        "  new_xv_test = vectorization.transform(new_x_test)\r\n",
        "  pred_logisticRegression = logisticRegression.predict(new_xv_test)\r\n",
        "  pred_decisionTree = decisionTree.predict(new_xv_test)\r\n",
        "  pred_gradientBoostingClassifier = gradientBoostingClassifier.predict(new_xv_test)\r\n",
        "  pred_randomForestClassifier = randomForestClassifier.predict(new_xv_test)\r\n",
        "\r\n",
        "  # return print(\r\n",
        "  #     \"\\n\\nLogistic Regression: {} \\nDecision Tree Classifier: {} \\nGradient Boosting Classifier: {} \\nRandom Forest Classifier: {}\".format(\r\n",
        "  #       output(pred_logisticRegression),\r\n",
        "  #       output(pred_decisionTree),\r\n",
        "  #       output(pred_gradientBoostingClassifier),\r\n",
        "  #       output(pred_randomForestClassifier)  \r\n",
        "  #     ))\r\n",
        "\r\n",
        "  return print(output(pred_decisionTree))"
      ],
      "outputs": [],
      "metadata": {
        "id": "la-r0iislz35"
      }
    },
    {
      "cell_type": "code",
      "execution_count": 35,
      "source": [
        "try:\r\n",
        "  while 1:\r\n",
        "    print(\"Hey there i am KITT, Beware of fake news and don't send it across!\")  \r\n",
        "    headline = str(input(\"Tell me a news: \"))\r\n",
        "    manual_testing(headline)\r\n",
        "except KeyboardInterrupt:\r\n",
        "  print(\"Stopped!\")"
      ],
      "outputs": [
        {
          "output_type": "stream",
          "name": "stdout",
          "text": [
            "Hey there i am KITT, Beware of fake news and don't send it across!\n",
            "Fake\n",
            "Hey there i am KITT, Beware of fake news and don't send it across!\n",
            "Fake\n",
            "Hey there i am KITT, Beware of fake news and don't send it across!\n",
            "Fake\n",
            "Hey there i am KITT, Beware of fake news and don't send it across!\n",
            "Stopped!\n"
          ]
        }
      ],
      "metadata": {
        "colab": {
          "base_uri": "https://localhost:8080/",
          "height": 554
        },
        "id": "H3h5KDr0r04Z",
        "outputId": "a53c0543-bacc-49a2-cdf8-7e45059dda35"
      }
    }
  ]
}